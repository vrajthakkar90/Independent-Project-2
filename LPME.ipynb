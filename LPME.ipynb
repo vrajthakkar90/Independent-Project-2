{
 "cells": [
  {
   "cell_type": "code",
   "execution_count": 1,
   "metadata": {},
   "outputs": [],
   "source": [
    "import igl\n",
    "import scipy as sp\n",
    "import numpy as np\n",
    "import meshplot as mp\n",
    "from meshplot import plot, subplot, interact\n",
    "from concurrent.futures import ThreadPoolExecutor, as_completed"
   ]
  },
  {
   "cell_type": "code",
   "execution_count": 2,
   "metadata": {},
   "outputs": [],
   "source": [
    "def adjacency_matrix_to_list(vertices, faces):\n",
    "    adjacency_list = {i: set() for i in range(len(vertices))}\n",
    "    for face in faces:\n",
    "        for i in range(len(face)):\n",
    "            v1 = face[i]\n",
    "            v2 = face[(i + 1) % len(face)]\n",
    "            adjacency_list[v1].add(v2)\n",
    "            adjacency_list[v2].add(v1)\n",
    "    for key in adjacency_list:\n",
    "        adjacency_list[key] = sorted(adjacency_list[key])\n",
    "    return adjacency_list"
   ]
  },
  {
   "cell_type": "code",
   "execution_count": 3,
   "metadata": {},
   "outputs": [],
   "source": [
    "def MakeAmatrix(i, V, adjacency_list):\n",
    "    A = adjacency_list\n",
    "    #append i in the beginiing of each A[i]\n",
    "    A = np.insert(A, 0, i)\n",
    "    for k in A:\n",
    "        matrix = np.zeros((3,4))\n",
    "        matrix[0][0] = V[k][0]\n",
    "        matrix[1][0] = V[k][1]\n",
    "        matrix[2][0] = V[k][2]\n",
    "        matrix[1][1] = -V[k][2]\n",
    "        matrix[2][1] = V[k][1]\n",
    "        matrix[0][2] = V[k][2]\n",
    "        matrix[2][2] = -V[k][0]\n",
    "        matrix[0][3] = -V[k][1]\n",
    "        matrix[1][3] = V[k][0]\n",
    "        I = np.eye(3)\n",
    "        if k == i:\n",
    "            matrix_fin = np.concatenate((matrix, I), axis=1)\n",
    "        else:\n",
    "            matrix = np.concatenate((matrix, I), axis=1)\n",
    "            matrix_fin = np.concatenate((matrix_fin, matrix), axis=0)  \n",
    "    matrix_fin_i = np.linalg.inv(np.matmul(matrix_fin.T, matrix_fin))\n",
    "    vector = np.matmul(matrix_fin_i, matrix_fin.T)\n",
    "    return vector"
   ]
  },
  {
   "cell_type": "code",
   "execution_count": 4,
   "metadata": {},
   "outputs": [],
   "source": [
    "def degree_matrix(adjacency_list):\n",
    "    # Create a diagonal matrix where the diagonal elements are the degrees of each vertex\n",
    "    degree = []\n",
    "    for i in adjacency_list:\n",
    "        degree.append(len(adjacency_list[i]))\n",
    "    degrees = np.array(degree)\n",
    "    D = np.diag(degrees)\n",
    "    return D"
   ]
  },
  {
   "cell_type": "code",
   "execution_count": 5,
   "metadata": {},
   "outputs": [],
   "source": [
    "def create_adjacency_matrix(vertices, faces):\n",
    "    num_vertices = vertices.shape[0]\n",
    "    adjacency_matrix = np.zeros((num_vertices, num_vertices), dtype=int)\n",
    "\n",
    "    # Extract vertex indices for each face\n",
    "    i, j, k = faces[:, 0], faces[:, 1], faces[:, 2]\n",
    "    \n",
    "    # Set adjacency between pairs of vertices for all faces\n",
    "    adjacency_matrix[i, j] = 1\n",
    "    adjacency_matrix[j, i] = 1\n",
    "    adjacency_matrix[i, k] = 1\n",
    "    adjacency_matrix[k, i] = 1\n",
    "    adjacency_matrix[j, k] = 1\n",
    "    adjacency_matrix[k, j] = 1\n",
    "    \n",
    "    return adjacency_matrix"
   ]
  },
  {
   "cell_type": "code",
   "execution_count": 6,
   "metadata": {},
   "outputs": [],
   "source": [
    "def makeitlarge(Ti, matrix, i, adjacency_list_for_i):\n",
    "    A = np.insert(adjacency_list_for_i, 0, i)  # Insert i at the beginning of the adjacency list\n",
    "    j=0\n",
    "    for k in A:\n",
    "        Ti_block = Ti[:, 3*j:3*(j+1)]\n",
    "        matrix[3*i:3*(i+1), 3*k:3*(k+1)] = Ti_block\n",
    "        j += 1    \n",
    "    return matrix"
   ]
  },
  {
   "cell_type": "code",
   "execution_count": 7,
   "metadata": {},
   "outputs": [],
   "source": [
    "def makeLbig(L):\n",
    "    n = L.shape[0]  # Number of vertices\n",
    "    M1 = np.zeros((3 * n, 3 * n))  # Initialize a (3n, 3n) matrix with zeros\n",
    "    \n",
    "    # Fill in the block diagonal\n",
    "    M1[0::3, 0::3] = L  # First block for x-coordinates\n",
    "    M1[1::3, 1::3] = L  # Second block for y-coordinates\n",
    "    M1[2::3, 2::3] = L  # Third block for z-coordinates\n",
    "    \n",
    "    return M1"
   ]
  },
  {
   "cell_type": "code",
   "execution_count": 8,
   "metadata": {},
   "outputs": [],
   "source": [
    "def MakeU(V,handle_points, handle_vertices):\n",
    "    u = np.zeros(3 * len(V))  # Initialize the flattened vector u\n",
    "    i = 3 * np.array(handle_points) # Indices for x, y, z components\n",
    "    k = np.arange(len(handle_points))  # Indices for handle points\n",
    "    # Fill u with handle vertex coordinates\n",
    "    u[i] = handle_vertices[k, 0]  # x-coordinates\n",
    "    u[i + 1] = handle_vertices[k, 1]  # y-coordinates\n",
    "    u[i + 2] = handle_vertices[k, 2]  # z-coordinates\n",
    "    return u"
   ]
  },
  {
   "cell_type": "code",
   "execution_count": 9,
   "metadata": {},
   "outputs": [],
   "source": [
    "def T_bar(vector,Vx_i):\n",
    "    T1 = Vx_i[0] * vector[0] - Vx_i[1] * vector[3] + Vx_i[2] * vector[2]\n",
    "    T2 = Vx_i[0] * vector[3] + Vx_i[1] * vector[0] - Vx_i[2] * vector[1]\n",
    "    T3 = -Vx_i[0] * vector[2] + Vx_i[1] * vector[1] + Vx_i[2] *  vector[0]\n",
    "    return np.array([T1,T2,T3])"
   ]
  },
  {
   "cell_type": "code",
   "execution_count": 10,
   "metadata": {},
   "outputs": [],
   "source": [
    "def  Mcon(v,handle_points):\n",
    "    n = len(v)  # Number of vertices\n",
    "    M = np.zeros((3 * n, 3 * n))  # Initialize the constraint matrix\n",
    "    i = np.array(handle_points)\n",
    "    indices = np.concatenate([3*i, 3*i + 1, 3*i + 2])\n",
    "    M[indices, indices] = 1\n",
    "    return M"
   ]
  },
  {
   "cell_type": "code",
   "execution_count": 11,
   "metadata": {},
   "outputs": [],
   "source": [
    "def Solve(V,F,handle_points,handle_vertices):\n",
    "    adjacency_list = adjacency_matrix_to_list(V,F)\n",
    "    adjacency_matrix = create_adjacency_matrix(V,F)\n",
    "    I = np.eye(len(V))\n",
    "    D = degree_matrix(adjacency_list)\n",
    "    L = I - np.matmul(np.linalg.inv(D), adjacency_matrix) #we can make L large such that order of A = order of L\n",
    "    Vx = np.matmul(L,V[:,0])\n",
    "    Vy = np.matmul(L,V[:,1])\n",
    "    Vz = np.matmul(L,V[:,2]) \n",
    "    L_big = makeLbig(L) \n",
    "    A = np.zeros((3*len(V),3*len(V)))\n",
    "    for i in range(len(V)):\n",
    "        Ti = MakeAmatrix(i,V,adjacency_list[i])\n",
    "        Ti_bar = T_bar(Ti[0:4,:],[Vx[i],Vy[i],Vz[i]])\n",
    "        A = makeitlarge(Ti_bar, A, i, adjacency_list[i])\n",
    "    Mcon_1 = Mcon(V,handle_points)\n",
    "    u = MakeU(V,handle_points, handle_vertices)\n",
    "    X = A - L_big\n",
    "    X_f = np.matmul(X.T,X)\n",
    "    X_f = X_f + Mcon_1\n",
    "    b = np.matmul(Mcon_1,u)\n",
    "    v = np.linalg.lstsq(X_f,b, rcond=None)[0]\n",
    "    x = v.reshape((len(V),3))\n",
    "    return x"
   ]
  },
  {
   "cell_type": "code",
   "execution_count": 12,
   "metadata": {},
   "outputs": [],
   "source": [
    "# Define vertices for the diamond\n",
    "vertices = np.array([\n",
    "    [0, 0, 1],    # Vertex 0: Top vertex\n",
    "    [1, 0, 0],    # Vertex 1: Base vertex 1\n",
    "    [0, 1, 0],    # Vertex 2: Base vertex 2\n",
    "    [-1, 0, 0],   # Vertex 3: Base vertex 3\n",
    "    [0, -1, 0],   # Vertex 4: Base vertex 4\n",
    "    [0, 0, -1]    # Vertex 5: Bottom vertex\n",
    "])\n",
    "\n",
    "# Define faces by connecting vertices\n",
    "faces = np.array([\n",
    "    [0, 1, 2],    # Face 0\n",
    "    [0, 2, 3],    # Face 1\n",
    "    [0, 3, 4],    # Face 2\n",
    "    [0, 4, 1],    # Face 3\n",
    "    [5, 1, 4],    # Face 4\n",
    "    [5, 4, 3],    # Face 5\n",
    "    [5, 3, 2],    # Face 6\n",
    "    [5, 2, 1]     # Face 7\n",
    "])"
   ]
  },
  {
   "cell_type": "code",
   "execution_count": 13,
   "metadata": {},
   "outputs": [],
   "source": [
    "indices = [2,4]\n",
    "new_positions = np.array([[0.5,1,0],[0,-1,0]])\n",
    "V_1 = Solve(vertices,faces, indices, new_positions)"
   ]
  },
  {
   "cell_type": "code",
   "execution_count": 14,
   "metadata": {},
   "outputs": [
    {
     "name": "stdout",
     "output_type": "stream",
     "text": [
      "[[ 0  0  1]\n",
      " [ 1  0  0]\n",
      " [ 0  1  0]\n",
      " [-1  0  0]\n",
      " [ 0 -1  0]\n",
      " [ 0  0 -1]]\n"
     ]
    }
   ],
   "source": [
    "print(vertices)"
   ]
  },
  {
   "cell_type": "code",
   "execution_count": 15,
   "metadata": {},
   "outputs": [
    {
     "name": "stdout",
     "output_type": "stream",
     "text": [
      "[[ 2.50000000e-01 -1.11022302e-15  1.00000000e+00]\n",
      " [ 1.25000000e+00 -2.50000000e-01  1.94740061e-15]\n",
      " [ 5.00000000e-01  1.00000000e+00  8.67194230e-16]\n",
      " [-7.50000000e-01  2.50000000e-01  1.07795713e-15]\n",
      " [ 1.11105307e-15 -1.00000000e+00 -1.64900363e-16]\n",
      " [ 2.50000000e-01 -1.35749718e-15 -1.00000000e+00]]\n"
     ]
    }
   ],
   "source": [
    "print(V_1)"
   ]
  },
  {
   "cell_type": "code",
   "execution_count": 16,
   "metadata": {},
   "outputs": [
    {
     "data": {
      "application/vnd.jupyter.widget-view+json": {
       "model_id": "f43b643f08984bb1b57cc61b07b0b42f",
       "version_major": 2,
       "version_minor": 0
      },
      "text/plain": [
       "Renderer(camera=PerspectiveCamera(children=(DirectionalLight(color='white', intensity=0.6, position=(0.0, 0.0,…"
      ]
     },
     "metadata": {},
     "output_type": "display_data"
    },
    {
     "data": {
      "text/plain": [
       "<meshplot.Viewer.Viewer at 0x1080921b0>"
      ]
     },
     "execution_count": 16,
     "metadata": {},
     "output_type": "execute_result"
    }
   ],
   "source": [
    "plot(vertices, faces)"
   ]
  },
  {
   "cell_type": "code",
   "execution_count": 17,
   "metadata": {},
   "outputs": [
    {
     "data": {
      "application/vnd.jupyter.widget-view+json": {
       "model_id": "5dbca1c634b3468a903a2c653584d5b9",
       "version_major": 2,
       "version_minor": 0
      },
      "text/plain": [
       "Renderer(camera=PerspectiveCamera(children=(DirectionalLight(color='white', intensity=0.6, position=(0.25, 0.0…"
      ]
     },
     "metadata": {},
     "output_type": "display_data"
    },
    {
     "data": {
      "text/plain": [
       "<meshplot.Viewer.Viewer at 0x11a4f48f0>"
      ]
     },
     "execution_count": 17,
     "metadata": {},
     "output_type": "execute_result"
    }
   ],
   "source": [
    "plot(V_1, faces)"
   ]
  },
  {
   "cell_type": "code",
   "execution_count": 18,
   "metadata": {},
   "outputs": [
    {
     "data": {
      "application/vnd.jupyter.widget-view+json": {
       "model_id": "6c822d37237b4a0a8f3adf0e3916096d",
       "version_major": 2,
       "version_minor": 0
      },
      "text/plain": [
       "Renderer(camera=PerspectiveCamera(children=(DirectionalLight(color='white', intensity=0.6, position=(0.5000501…"
      ]
     },
     "metadata": {},
     "output_type": "display_data"
    },
    {
     "data": {
      "text/plain": [
       "<meshplot.Viewer.Viewer at 0x11a4f7140>"
      ]
     },
     "execution_count": 18,
     "metadata": {},
     "output_type": "execute_result"
    }
   ],
   "source": [
    "#Load the .off file\n",
    "file_path = '/Users/vrajthakkar/Desktop/IP-2 ARAP/cactus.off'\n",
    "V , F = igl.read_triangle_mesh(file_path)\n",
    "plot(V,F)"
   ]
  },
  {
   "cell_type": "code",
   "execution_count": 19,
   "metadata": {},
   "outputs": [],
   "source": [
    "def findonering(V,F,i):\n",
    "    onering = []\n",
    "    for f in F:\n",
    "        if i in f:\n",
    "            for j in f:\n",
    "                if j != i:\n",
    "                    onering.append(j)\n",
    "    return onering"
   ]
  },
  {
   "cell_type": "code",
   "execution_count": 20,
   "metadata": {},
   "outputs": [
    {
     "name": "stdout",
     "output_type": "stream",
     "text": [
      "[0.50276786 0.56758571 0.86119568]\n"
     ]
    }
   ],
   "source": [
    "print(V[203])"
   ]
  },
  {
   "cell_type": "code",
   "execution_count": 49,
   "metadata": {},
   "outputs": [
    {
     "name": "stdout",
     "output_type": "stream",
     "text": [
      "[[0.50932294 0.56420672 1.36659473]\n",
      " [0.51094753 0.56856835 1.35802537]\n",
      " [0.50041866 0.56281751 1.36899501]\n",
      " [0.50932294 0.56420672 1.36659473]\n",
      " [0.49390334 0.56593752 1.36342192]\n",
      " [0.50041866 0.56281751 1.36899501]\n",
      " [0.49630097 0.56994456 1.35544348]\n",
      " [0.49390334 0.56593752 1.36342192]\n",
      " [0.50469297 0.57131249 1.35232574]\n",
      " [0.49630097 0.56994456 1.35544348]\n",
      " [0.51094753 0.56856835 1.35802537]\n",
      " [0.50469297 0.57131249 1.35232574]\n",
      " [0.50276786 0.56758571 1.36119568]]\n"
     ]
    }
   ],
   "source": [
    "X = findonering(V,F,203)\n",
    "X = np.append(X,203)\n",
    "V_f = V[X]\n",
    "V_f = np.array(V_f + [0,0,0.5])\n",
    "print(V_f)"
   ]
  },
  {
   "cell_type": "code",
   "execution_count": 50,
   "metadata": {},
   "outputs": [
    {
     "data": {
      "application/vnd.jupyter.widget-view+json": {
       "model_id": "89b50a809b21437a8b25844b49e1c5b6",
       "version_major": 2,
       "version_minor": 0
      },
      "text/plain": [
       "Renderer(camera=PerspectiveCamera(children=(DirectionalLight(color='white', intensity=0.6, position=(0.6146810…"
      ]
     },
     "metadata": {},
     "output_type": "display_data"
    },
    {
     "data": {
      "text/plain": [
       "<meshplot.Viewer.Viewer at 0x11cfd7140>"
      ]
     },
     "execution_count": 50,
     "metadata": {},
     "output_type": "execute_result"
    }
   ],
   "source": [
    "indices = []\n",
    "new_positions = []\n",
    "for i in range(len(V)):\n",
    "    if (V[i][2] < 0.3):\n",
    "        indices.append(i)\n",
    "        new_positions.append(np.array([V[i][0],V[i][1],V[i][2]]))\n",
    "for i in range(len(V_f)):\n",
    "    new_positions.append(np.array([V_f[i][0],V_f[i][1],V_f[i][2]]))\n",
    "    indices.append(X[i])\n",
    "new_vertices = Solve(V,F,indices,np.array(new_positions))\n",
    "plot(new_vertices, F, shading={\"flat\": True})"
   ]
  }
 ],
 "metadata": {
  "kernelspec": {
   "display_name": "Python 3",
   "language": "python",
   "name": "python3"
  },
  "language_info": {
   "codemirror_mode": {
    "name": "ipython",
    "version": 3
   },
   "file_extension": ".py",
   "mimetype": "text/x-python",
   "name": "python",
   "nbconvert_exporter": "python",
   "pygments_lexer": "ipython3",
   "version": "3.12.4"
  }
 },
 "nbformat": 4,
 "nbformat_minor": 2
}
