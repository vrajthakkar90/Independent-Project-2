{
 "cells": [
  {
   "cell_type": "code",
   "execution_count": 1,
   "metadata": {},
   "outputs": [],
   "source": [
    "import igl\n",
    "import scipy as sp\n",
    "import numpy as np\n",
    "import meshplot as mp\n",
    "from meshplot import plot, subplot, interact\n",
    "from concurrent.futures import ThreadPoolExecutor, as_completed"
   ]
  },
  {
   "cell_type": "code",
   "execution_count": 2,
   "metadata": {},
   "outputs": [],
   "source": [
    "def neighbours(vertex, faces):\n",
    "    neighbours = set()  # Use a set to avoid duplicates\n",
    "    for face in faces:\n",
    "        if vertex in face:\n",
    "            for v in face:\n",
    "                if v != vertex:\n",
    "                    neighbours.add(v)\n",
    "    return np.array(list(neighbours))"
   ]
  },
  {
   "cell_type": "code",
   "execution_count": 3,
   "metadata": {},
   "outputs": [],
   "source": [
    "def compute_cotangent_weights(vertices, faces, epsilon: float=1e-12):\n",
    "    vertices_count, faces_count = vertices.shape[0], faces.shape[0]\n",
    "    vertices_grouped_by_faces = vertices[faces]\n",
    "    v0, v1, v2 = vertices_grouped_by_faces[:, 0], vertices_grouped_by_faces[:, 1], vertices_grouped_by_faces[:, 2]\n",
    "    # use vector norm to find length of face edges\n",
    "    A= np.linalg.norm((v1 - v2), axis=1)\n",
    "    B= np.linalg.norm((v0 - v2), axis=1)\n",
    "    C= np.linalg.norm((v0 - v1), axis=1)\n",
    "    '''Heron's formula'''\n",
    "    s = 0.5 * (A + B + C)\n",
    "    area = np.sqrt((s * (s - A) * (s - B) * (s - C)).clip(min=epsilon))\n",
    "    '''Law of cosines, in cotangnet'''\n",
    "    A_squared, B_squared, C_squared = A * A, B * B, C * C\n",
    "    cotangent_a = (B_squared + C_squared - A_squared) / area\n",
    "    cotangent_b = (A_squared + C_squared - B_squared) / area\n",
    "    cotangent_c = (A_squared + B_squared - C_squared) / area\n",
    "    cot = np.stack([cotangent_a, cotangent_b, cotangent_c], axis=1)\n",
    "    cot /= 4.0\n",
    "    ii = faces[:, [1, 2, 0]]\n",
    "    jj = faces[:, [2, 0, 1]]\n",
    "    idx = np.stack([ii, jj], axis=0).reshape((2, faces_count * 3))\n",
    "    m = np.zeros(shape=(vertices_count, vertices_count))\n",
    "    m[idx[0], idx[1]] = cot.reshape(-1)\n",
    "    m += m.T\n",
    "    np.fill_diagonal(m, -m.sum(axis=1))\n",
    "    return m"
   ]
  },
  {
   "cell_type": "code",
   "execution_count": 4,
   "metadata": {},
   "outputs": [],
   "source": [
    "def adjacency_matrix_to_list(vertices, faces):\n",
    "    adjacency_list = {i: set() for i in range(len(vertices))}\n",
    "    for face in faces:\n",
    "        for i in range(len(face)):\n",
    "            v1 = face[i]\n",
    "            v2 = face[(i + 1) % len(face)]\n",
    "            adjacency_list[v1].add(v2)\n",
    "            adjacency_list[v2].add(v1)\n",
    "    for key in adjacency_list:\n",
    "        adjacency_list[key] = sorted(adjacency_list[key])\n",
    "    return adjacency_list"
   ]
  },
  {
   "cell_type": "code",
   "execution_count": 5,
   "metadata": {},
   "outputs": [],
   "source": [
    "def cell_rotation(vertex_index, adjacency_list, vertices, cotangent_weight_matrix, new_vertices):\n",
    "    w = []\n",
    "    vert = np.full(len(adjacency_list),vertex_index)\n",
    "    cell_edges = vertices[vert] - vertices[adjacency_list]\n",
    "    cell_edges_new = new_vertices[vert] - new_vertices[adjacency_list]\n",
    "    w = cotangent_weight_matrix[vertex_index][adjacency_list]\n",
    "    w = np.diag(w)\n",
    "    w = np.array(w)\n",
    "    cell_edges_new = np.array(cell_edges_new)\n",
    "    cell_edges = np.array(cell_edges)\n",
    "    S = np.matmul(cell_edges.T,w)\n",
    "    S = np.matmul(S,cell_edges_new)\n",
    "    U,L,V = np.linalg.svd(S)\n",
    "    sign = np.linalg.det(np.matmul(V,U.T))\n",
    "    n = U.shape[0]\n",
    "    m = V.shape[0]\n",
    "    matrix = np.eye(m,n)\n",
    "    if sign < 0:\n",
    "        matrix[-1,-1] = -1\n",
    "        R = np.matmul(V.T,matrix)\n",
    "        R = np.matmul(R,U.T)\n",
    "    else:\n",
    "        R = np.matmul(V.T,U.T)\n",
    "    # if vertex_index == 2: \n",
    "    #     print(R)\n",
    "    return R"
   ]
  },
  {
   "cell_type": "code",
   "execution_count": 6,
   "metadata": {},
   "outputs": [],
   "source": [
    "def compute_rotations(adjacency_list, vertices, cot_matrix_1):\n",
    "    rotations = []\n",
    "    for i in range(len(vertices)):\n",
    "        R = cell_rotation(i, adjacency_list, vertices, cot_matrix_1)\n",
    "        rotations.append(R)\n",
    "    return rotations"
   ]
  },
  {
   "cell_type": "code",
   "execution_count": 7,
   "metadata": {},
   "outputs": [],
   "source": [
    "def parallel_rotations(adjacency_list, vertices, cotangent_weight_matrix, new_vertices):\n",
    "    num_vertices = len(vertices)\n",
    "    rotations = [None] * num_vertices\n",
    "\n",
    "    def compute_rotation(vertex_index):\n",
    "        return vertex_index, cell_rotation(vertex_index, adjacency_list[vertex_index], vertices, cotangent_weight_matrix, new_vertices)\n",
    "    \n",
    "    with ThreadPoolExecutor() as executor:\n",
    "        future_to_vertex = {executor.submit(compute_rotation, i): i for i in range(num_vertices)}\n",
    "        \n",
    "        for future in as_completed(future_to_vertex):\n",
    "            vertex_index, rotation = future.result()\n",
    "            rotations[vertex_index] = rotation\n",
    "\n",
    "    return rotations"
   ]
  },
  {
   "cell_type": "code",
   "execution_count": 8,
   "metadata": {},
   "outputs": [],
   "source": [
    "def compute_b(R, vertices, cotangent_weight_matrix, adjacency_list):\n",
    "    Bx = []\n",
    "    By = []\n",
    "    Bz = []\n",
    "    for i in range(len(vertices)):\n",
    "        b1 = np.zeros(3)\n",
    "        for j in adjacency_list[i]:\n",
    "            e = vertices[j] - vertices[i]   \n",
    "            r = R[i] + R[j]\n",
    "            b1 += cotangent_weight_matrix[i][j]*np.matmul(r,e)/2\n",
    "        Bx = np.append(Bx,b1[0])\n",
    "        By = np.append(By,b1[1])\n",
    "        Bz = np.append(Bz,b1[2])\n",
    "    return Bx, By, Bz\n"
   ]
  },
  {
   "cell_type": "code",
   "execution_count": 9,
   "metadata": {},
   "outputs": [],
   "source": [
    "def solve_with_knowns(A, b, x_known):\n",
    "    # Convert x_known keys and values to arrays for vectorized operations\n",
    "    known_indices = np.array(list(x_known.keys()))\n",
    "    known_values = np.array(list(x_known.values()))\n",
    "\n",
    "    # Adjust the right-hand side vector b in one step\n",
    "    b -= A[:, known_indices] @ known_values\n",
    "\n",
    "    # Remove the rows and columns corresponding to the known values\n",
    "    A_reduced = np.delete(A, known_indices, axis=1)\n",
    "    A_reduced = np.delete(A_reduced, known_indices, axis=0)\n",
    "    b_reduced = np.delete(b, known_indices)\n",
    "\n",
    "    # Solve the reduced system\n",
    "    x_reduced = np.linalg.lstsq(A_reduced, b_reduced, rcond=None)[0]\n",
    "\n",
    "    # Reconstruct the full solution vector\n",
    "    x_full = np.zeros(A.shape[1])\n",
    "    x_full[known_indices] = known_values\n",
    "    x_full[np.setdiff1d(np.arange(A.shape[1]), known_indices)] = x_reduced\n",
    "\n",
    "    return x_full\n"
   ]
  },
  {
   "cell_type": "code",
   "execution_count": 23,
   "metadata": {},
   "outputs": [],
   "source": [
    "def My_arap(vertices,faces, indices, new_positions,  max_iter, cotangent_weight_matrix, adj_list):\n",
    "    v0 = vertices.copy()\n",
    "    dict1 = {}\n",
    "    dict2 = {}\n",
    "    dict3 = {}  \n",
    "    for i in range(len(indices)):\n",
    "        dict1[indices[i]] = new_positions[i][0]\n",
    "        dict2[indices[i]] = new_positions[i][1]\n",
    "        dict3[indices[i]] = new_positions[i][2]\n",
    "    k = max_iter\n",
    "    # print(vertices)\n",
    "    # print(v0)\n",
    "    vertices[indices] = new_positions\n",
    "    while(k > 0):\n",
    "        R = parallel_rotations(adj_list,v0, cotangent_weight_matrix,vertices)\n",
    "        Bx,By,Bz = compute_b(R, v0, cotangent_weight_matrix, adj_list)\n",
    "        px = solve_with_knowns(cotangent_weight_matrix, Bx, dict1)\n",
    "        py = solve_with_knowns(cotangent_weight_matrix, By, dict2)\n",
    "        pz = solve_with_knowns(cotangent_weight_matrix, Bz, dict3)\n",
    "        vertices = np.vstack([px,py,pz]).T\n",
    "        k -= 1\n",
    "        p=plot(vertices, faces)\n",
    "        p.add_points(vertices[indices], shading={\"point_size\": 0.05, \"point_color\": \"red\"})   \n",
    "    return vertices # change i and j in Rotation and change the sign of cotan matrix, try different combos and then see which workss"
   ]
  },
  {
   "cell_type": "code",
   "execution_count": 11,
   "metadata": {},
   "outputs": [],
   "source": [
    "# Define vertices for the diamond\n",
    "vertices = np.array([\n",
    "    [0, 0, 1],    # Vertex 0: Top vertex\n",
    "    [1, 0, 0],    # Vertex 1: Base vertex 1\n",
    "    [0, 1, 0],    # Vertex 2: Base vertex 2\n",
    "    [-1, 0, 0],   # Vertex 3: Base vertex 3\n",
    "    [0, -1, 0],   # Vertex 4: Base vertex 4\n",
    "    [0, 0, -1]    # Vertex 5: Bottom vertex\n",
    "], dtype=np.float64)\n",
    "\n",
    "# Define faces by connecting vertices\n",
    "faces = np.array([\n",
    "    [0, 1, 2],    # Face 0\n",
    "    [0, 2, 3],    # Face 1\n",
    "    [0, 3, 4],    # Face 2\n",
    "    [0, 4, 1],    # Face 3\n",
    "    [5, 1, 4],    # Face 4\n",
    "    [5, 4, 3],    # Face 5\n",
    "    [5, 3, 2],    # Face 6\n",
    "    [5, 2, 1]     # Face 7\n",
    "])"
   ]
  },
  {
   "cell_type": "code",
   "execution_count": 12,
   "metadata": {},
   "outputs": [
    {
     "data": {
      "application/vnd.jupyter.widget-view+json": {
       "model_id": "475f2742c9fc4facbfe4dbde0c99e743",
       "version_major": 2,
       "version_minor": 0
      },
      "text/plain": [
       "Renderer(camera=PerspectiveCamera(children=(DirectionalLight(color='white', intensity=0.6, position=(0.0, 0.0,…"
      ]
     },
     "metadata": {},
     "output_type": "display_data"
    },
    {
     "data": {
      "text/plain": [
       "<meshplot.Viewer.Viewer at 0x1178f8ce0>"
      ]
     },
     "execution_count": 12,
     "metadata": {},
     "output_type": "execute_result"
    }
   ],
   "source": [
    "plot(vertices,faces)"
   ]
  },
  {
   "cell_type": "code",
   "execution_count": 128,
   "metadata": {},
   "outputs": [
    {
     "name": "stdout",
     "output_type": "stream",
     "text": [
      "[[ 0.   0.   1. ]\n",
      " [ 1.   0.   0. ]\n",
      " [ 0.2  1.   0. ]\n",
      " [-1.   0.   0. ]\n",
      " [ 0.  -1.   0. ]\n",
      " [ 0.   0.  -1. ]]\n",
      "[[ 0.  0.  1.]\n",
      " [ 1.  0.  0.]\n",
      " [ 0.  1.  0.]\n",
      " [-1.  0.  0.]\n",
      " [ 0. -1.  0.]\n",
      " [ 0.  0. -1.]]\n",
      "[[ 0.9912279   0.13216372  0.        ]\n",
      " [-0.13216372  0.9912279   0.        ]\n",
      " [ 0.          0.          1.        ]]\n"
     ]
    }
   ],
   "source": [
    "indices = np.array([2,4])\n",
    "new_positions = np.array([[0.2,1,0],[0,-1,0]])\n",
    "cotangent_weight_matrix = compute_cotangent_weights(vertices, faces)\n",
    "adj_list = adjacency_matrix_to_list(vertices,faces)\n",
    "V_1 = My_arap(vertices,faces, indices, new_positions,  1, cotangent_weight_matrix,adj_list)"
   ]
  },
  {
   "cell_type": "code",
   "execution_count": 122,
   "metadata": {},
   "outputs": [
    {
     "name": "stdout",
     "output_type": "stream",
     "text": [
      "[[ 5.03178026e-02  2.47007173e-03  9.99722915e-01]\n",
      " [ 1.06511537e+00 -4.40372220e-02  2.45342517e-16]\n",
      " [ 2.00000000e-01  1.00000000e+00  0.00000000e+00]\n",
      " [-9.31234286e-01  4.73127808e-02 -2.68135632e-16]\n",
      " [ 0.00000000e+00 -1.00000000e+00  0.00000000e+00]\n",
      " [ 5.03178026e-02  2.47007173e-03 -9.99722915e-01]]\n"
     ]
    }
   ],
   "source": [
    "print(V_1)"
   ]
  },
  {
   "cell_type": "code",
   "execution_count": 129,
   "metadata": {},
   "outputs": [
    {
     "data": {
      "application/vnd.jupyter.widget-view+json": {
       "model_id": "f6f9ed6c4c1047ecb44a333f8ccaeef8",
       "version_major": 2,
       "version_minor": 0
      },
      "text/plain": [
       "Renderer(camera=PerspectiveCamera(children=(DirectionalLight(color='white', intensity=0.6, position=(0.0669405…"
      ]
     },
     "metadata": {},
     "output_type": "display_data"
    },
    {
     "data": {
      "text/plain": [
       "<meshplot.Viewer.Viewer at 0x134737fb0>"
      ]
     },
     "execution_count": 129,
     "metadata": {},
     "output_type": "execute_result"
    }
   ],
   "source": [
    "plot(V_1, faces, shading={\"wireframe\": True})"
   ]
  },
  {
   "cell_type": "code",
   "execution_count": 13,
   "metadata": {},
   "outputs": [],
   "source": [
    "# Load the .off file\n",
    "file_path = '/Users/vrajthakkar/Desktop/IP-2 ARAP/cactus.off'\n",
    "V , F = igl.read_triangle_mesh(file_path)\n",
    "V = np.array(V,dtype=np.float64)"
   ]
  },
  {
   "cell_type": "code",
   "execution_count": 22,
   "metadata": {},
   "outputs": [
    {
     "data": {
      "application/vnd.jupyter.widget-view+json": {
       "model_id": "fd3bd53303404375b104fffe532c84cd",
       "version_major": 2,
       "version_minor": 0
      },
      "text/plain": [
       "Renderer(camera=PerspectiveCamera(children=(DirectionalLight(color='white', intensity=0.6, position=(0.5000501…"
      ]
     },
     "metadata": {},
     "output_type": "display_data"
    },
    {
     "data": {
      "text/plain": [
       "1"
      ]
     },
     "execution_count": 22,
     "metadata": {},
     "output_type": "execute_result"
    }
   ],
   "source": [
    "p=plot(V,F)\n",
    "p.add_points(V[indices], shading={\"point_size\": 0.05, \"point_color\": \"red\"})"
   ]
  },
  {
   "cell_type": "code",
   "execution_count": 15,
   "metadata": {},
   "outputs": [
    {
     "data": {
      "text/plain": [
       "(5261, 3)"
      ]
     },
     "execution_count": 15,
     "metadata": {},
     "output_type": "execute_result"
    }
   ],
   "source": [
    "V.shape"
   ]
  },
  {
   "cell_type": "code",
   "execution_count": 16,
   "metadata": {},
   "outputs": [],
   "source": [
    "indices_h = []\n",
    "for i in range(len(V)):\n",
    "    if V[i][2] > 0.87:\n",
    "        indices_h.append(i)\n",
    "indices_h = np.array(indices_h)\n",
    "new_positions_h = V[indices_h] + np.array([0.1,0,0])"
   ]
  },
  {
   "cell_type": "code",
   "execution_count": 17,
   "metadata": {},
   "outputs": [],
   "source": [
    "indices = []\n",
    "new_positions = []\n",
    "for i in range(len(V)):\n",
    "    if (V[i][2] < 0.2):\n",
    "        indices.append(i)\n",
    "new_positions = V[indices]\n",
    "indices = np.append(indices,indices_h)\n",
    "new_positions = np.append(new_positions,new_positions_h,axis=0)"
   ]
  },
  {
   "cell_type": "code",
   "execution_count": 18,
   "metadata": {},
   "outputs": [],
   "source": [
    "V_new = V.copy()\n",
    "for i in range(len(V)):\n",
    "    if i in indices:\n",
    "        V_new[i] = new_positions[np.where(indices == i)[0][0]]"
   ]
  },
  {
   "cell_type": "code",
   "execution_count": 20,
   "metadata": {},
   "outputs": [
    {
     "data": {
      "application/vnd.jupyter.widget-view+json": {
       "model_id": "ae41a94be5e343929921fa1b6011c904",
       "version_major": 2,
       "version_minor": 0
      },
      "text/plain": [
       "Renderer(camera=PerspectiveCamera(children=(DirectionalLight(color='white', intensity=0.6, position=(0.5403364…"
      ]
     },
     "metadata": {},
     "output_type": "display_data"
    },
    {
     "data": {
      "text/plain": [
       "1"
      ]
     },
     "execution_count": 20,
     "metadata": {},
     "output_type": "execute_result"
    }
   ],
   "source": [
    "p=plot(V_new,F)\n",
    "p.add_points(V_new[indices],shading={\"point_size\":0.05})"
   ]
  },
  {
   "cell_type": "code",
   "execution_count": 24,
   "metadata": {},
   "outputs": [],
   "source": [
    "cotangent_weight_matrix_for_cactus = compute_cotangent_weights(V,F)\n",
    "adj_list_cactus = adjacency_matrix_to_list(V,F)"
   ]
  },
  {
   "cell_type": "code",
   "execution_count": 25,
   "metadata": {},
   "outputs": [
    {
     "data": {
      "application/vnd.jupyter.widget-view+json": {
       "model_id": "cb39f95f208d4d7791089ef7b316a16f",
       "version_major": 2,
       "version_minor": 0
      },
      "text/plain": [
       "Renderer(camera=PerspectiveCamera(children=(DirectionalLight(color='white', intensity=0.6, position=(0.5405097…"
      ]
     },
     "metadata": {},
     "output_type": "display_data"
    },
    {
     "data": {
      "application/vnd.jupyter.widget-view+json": {
       "model_id": "5778e46744084ece80b79fd47f4efebd",
       "version_major": 2,
       "version_minor": 0
      },
      "text/plain": [
       "Renderer(camera=PerspectiveCamera(children=(DirectionalLight(color='white', intensity=0.6, position=(0.5405097…"
      ]
     },
     "metadata": {},
     "output_type": "display_data"
    },
    {
     "data": {
      "application/vnd.jupyter.widget-view+json": {
       "model_id": "2683afdbe4c24f24a21f4c6b0ee166ea",
       "version_major": 2,
       "version_minor": 0
      },
      "text/plain": [
       "Renderer(camera=PerspectiveCamera(children=(DirectionalLight(color='white', intensity=0.6, position=(0.5413434…"
      ]
     },
     "metadata": {},
     "output_type": "display_data"
    },
    {
     "data": {
      "application/vnd.jupyter.widget-view+json": {
       "model_id": "1849ea10546c4d9fa569397e00bc2c5a",
       "version_major": 2,
       "version_minor": 0
      },
      "text/plain": [
       "Renderer(camera=PerspectiveCamera(children=(DirectionalLight(color='white', intensity=0.6, position=(0.5423560…"
      ]
     },
     "metadata": {},
     "output_type": "display_data"
    },
    {
     "data": {
      "application/vnd.jupyter.widget-view+json": {
       "model_id": "915d475d0a5d4bb2bf9d9d053d50ac5d",
       "version_major": 2,
       "version_minor": 0
      },
      "text/plain": [
       "Renderer(camera=PerspectiveCamera(children=(DirectionalLight(color='white', intensity=0.6, position=(0.5430198…"
      ]
     },
     "metadata": {},
     "output_type": "display_data"
    },
    {
     "data": {
      "application/vnd.jupyter.widget-view+json": {
       "model_id": "d009ad8ac1b24ca3bfc0e548835e2865",
       "version_major": 2,
       "version_minor": 0
      },
      "text/plain": [
       "Renderer(camera=PerspectiveCamera(children=(DirectionalLight(color='white', intensity=0.6, position=(0.5434999…"
      ]
     },
     "metadata": {},
     "output_type": "display_data"
    },
    {
     "data": {
      "application/vnd.jupyter.widget-view+json": {
       "model_id": "cdf17cfe9ca04362a269f61afcadfbfa",
       "version_major": 2,
       "version_minor": 0
      },
      "text/plain": [
       "Renderer(camera=PerspectiveCamera(children=(DirectionalLight(color='white', intensity=0.6, position=(0.5438627…"
      ]
     },
     "metadata": {},
     "output_type": "display_data"
    },
    {
     "data": {
      "application/vnd.jupyter.widget-view+json": {
       "model_id": "103ca61c427e41eaa7317cd5440eadf6",
       "version_major": 2,
       "version_minor": 0
      },
      "text/plain": [
       "Renderer(camera=PerspectiveCamera(children=(DirectionalLight(color='white', intensity=0.6, position=(0.5441428…"
      ]
     },
     "metadata": {},
     "output_type": "display_data"
    },
    {
     "data": {
      "application/vnd.jupyter.widget-view+json": {
       "model_id": "b4d9a9bbd4874386af42f7f724fd1f0e",
       "version_major": 2,
       "version_minor": 0
      },
      "text/plain": [
       "Renderer(camera=PerspectiveCamera(children=(DirectionalLight(color='white', intensity=0.6, position=(0.5443653…"
      ]
     },
     "metadata": {},
     "output_type": "display_data"
    },
    {
     "data": {
      "application/vnd.jupyter.widget-view+json": {
       "model_id": "329ce7e1fbb24cbbbc6aee22bd708a25",
       "version_major": 2,
       "version_minor": 0
      },
      "text/plain": [
       "Renderer(camera=PerspectiveCamera(children=(DirectionalLight(color='white', intensity=0.6, position=(0.5445456…"
      ]
     },
     "metadata": {},
     "output_type": "display_data"
    },
    {
     "ename": "KeyboardInterrupt",
     "evalue": "",
     "output_type": "error",
     "traceback": [
      "\u001b[0;31m---------------------------------------------------------------------------\u001b[0m",
      "\u001b[0;31mKeyboardInterrupt\u001b[0m                         Traceback (most recent call last)",
      "Cell \u001b[0;32mIn[25], line 1\u001b[0m\n\u001b[0;32m----> 1\u001b[0m new_vertices_1 \u001b[38;5;241m=\u001b[39m \u001b[43mMy_arap\u001b[49m\u001b[43m(\u001b[49m\u001b[43mvertices\u001b[49m\u001b[38;5;241;43m=\u001b[39;49m\u001b[43mV\u001b[49m\u001b[43m,\u001b[49m\u001b[43mfaces\u001b[49m\u001b[43m \u001b[49m\u001b[38;5;241;43m=\u001b[39;49m\u001b[43m \u001b[49m\u001b[43mF\u001b[49m\u001b[43m,\u001b[49m\u001b[43mindices\u001b[49m\u001b[43m \u001b[49m\u001b[38;5;241;43m=\u001b[39;49m\u001b[43m \u001b[49m\u001b[43mindices\u001b[49m\u001b[43m,\u001b[49m\u001b[43m \u001b[49m\u001b[43mnew_positions\u001b[49m\u001b[43m \u001b[49m\u001b[38;5;241;43m=\u001b[39;49m\u001b[43m \u001b[49m\u001b[43mnew_positions\u001b[49m\u001b[43m,\u001b[49m\u001b[43mmax_iter\u001b[49m\u001b[38;5;241;43m=\u001b[39;49m\u001b[38;5;241;43m20\u001b[39;49m\u001b[43m,\u001b[49m\u001b[43m \u001b[49m\u001b[43mcotangent_weight_matrix\u001b[49m\u001b[38;5;241;43m=\u001b[39;49m\u001b[43mcotangent_weight_matrix_for_cactus\u001b[49m\u001b[43m,\u001b[49m\u001b[43m \u001b[49m\u001b[43madj_list\u001b[49m\u001b[38;5;241;43m=\u001b[39;49m\u001b[43madj_list_cactus\u001b[49m\u001b[43m)\u001b[49m\n",
      "Cell \u001b[0;32mIn[23], line 18\u001b[0m, in \u001b[0;36mMy_arap\u001b[0;34m(vertices, faces, indices, new_positions, max_iter, cotangent_weight_matrix, adj_list)\u001b[0m\n\u001b[1;32m     16\u001b[0m Bx,By,Bz \u001b[38;5;241m=\u001b[39m compute_b(R, v0, cotangent_weight_matrix, adj_list)\n\u001b[1;32m     17\u001b[0m px \u001b[38;5;241m=\u001b[39m solve_with_knowns(cotangent_weight_matrix, Bx, dict1)\n\u001b[0;32m---> 18\u001b[0m py \u001b[38;5;241m=\u001b[39m \u001b[43msolve_with_knowns\u001b[49m\u001b[43m(\u001b[49m\u001b[43mcotangent_weight_matrix\u001b[49m\u001b[43m,\u001b[49m\u001b[43m \u001b[49m\u001b[43mBy\u001b[49m\u001b[43m,\u001b[49m\u001b[43m \u001b[49m\u001b[43mdict2\u001b[49m\u001b[43m)\u001b[49m\n\u001b[1;32m     19\u001b[0m pz \u001b[38;5;241m=\u001b[39m solve_with_knowns(cotangent_weight_matrix, Bz, dict3)\n\u001b[1;32m     20\u001b[0m vertices \u001b[38;5;241m=\u001b[39m np\u001b[38;5;241m.\u001b[39mvstack([px,py,pz])\u001b[38;5;241m.\u001b[39mT\n",
      "Cell \u001b[0;32mIn[9], line 15\u001b[0m, in \u001b[0;36msolve_with_knowns\u001b[0;34m(A, b, x_known)\u001b[0m\n\u001b[1;32m     12\u001b[0m b_reduced \u001b[38;5;241m=\u001b[39m np\u001b[38;5;241m.\u001b[39mdelete(b, known_indices)\n\u001b[1;32m     14\u001b[0m \u001b[38;5;66;03m# Solve the reduced system\u001b[39;00m\n\u001b[0;32m---> 15\u001b[0m x_reduced \u001b[38;5;241m=\u001b[39m \u001b[43mnp\u001b[49m\u001b[38;5;241;43m.\u001b[39;49m\u001b[43mlinalg\u001b[49m\u001b[38;5;241;43m.\u001b[39;49m\u001b[43mlstsq\u001b[49m\u001b[43m(\u001b[49m\u001b[43mA_reduced\u001b[49m\u001b[43m,\u001b[49m\u001b[43m \u001b[49m\u001b[43mb_reduced\u001b[49m\u001b[43m,\u001b[49m\u001b[43m \u001b[49m\u001b[43mrcond\u001b[49m\u001b[38;5;241;43m=\u001b[39;49m\u001b[38;5;28;43;01mNone\u001b[39;49;00m\u001b[43m)\u001b[49m[\u001b[38;5;241m0\u001b[39m]\n\u001b[1;32m     17\u001b[0m \u001b[38;5;66;03m# Reconstruct the full solution vector\u001b[39;00m\n\u001b[1;32m     18\u001b[0m x_full \u001b[38;5;241m=\u001b[39m np\u001b[38;5;241m.\u001b[39mzeros(A\u001b[38;5;241m.\u001b[39mshape[\u001b[38;5;241m1\u001b[39m])\n",
      "File \u001b[0;32m/Library/Frameworks/Python.framework/Versions/3.12/lib/python3.12/site-packages/numpy/linalg/_linalg.py:2508\u001b[0m, in \u001b[0;36mlstsq\u001b[0;34m(a, b, rcond)\u001b[0m\n\u001b[1;32m   2504\u001b[0m     b \u001b[38;5;241m=\u001b[39m zeros(b\u001b[38;5;241m.\u001b[39mshape[:\u001b[38;5;241m-\u001b[39m\u001b[38;5;241m2\u001b[39m] \u001b[38;5;241m+\u001b[39m (m, n_rhs \u001b[38;5;241m+\u001b[39m \u001b[38;5;241m1\u001b[39m), dtype\u001b[38;5;241m=\u001b[39mb\u001b[38;5;241m.\u001b[39mdtype)\n\u001b[1;32m   2506\u001b[0m \u001b[38;5;28;01mwith\u001b[39;00m errstate(call\u001b[38;5;241m=\u001b[39m_raise_linalgerror_lstsq, invalid\u001b[38;5;241m=\u001b[39m\u001b[38;5;124m'\u001b[39m\u001b[38;5;124mcall\u001b[39m\u001b[38;5;124m'\u001b[39m,\n\u001b[1;32m   2507\u001b[0m               over\u001b[38;5;241m=\u001b[39m\u001b[38;5;124m'\u001b[39m\u001b[38;5;124mignore\u001b[39m\u001b[38;5;124m'\u001b[39m, divide\u001b[38;5;241m=\u001b[39m\u001b[38;5;124m'\u001b[39m\u001b[38;5;124mignore\u001b[39m\u001b[38;5;124m'\u001b[39m, under\u001b[38;5;241m=\u001b[39m\u001b[38;5;124m'\u001b[39m\u001b[38;5;124mignore\u001b[39m\u001b[38;5;124m'\u001b[39m):\n\u001b[0;32m-> 2508\u001b[0m     x, resids, rank, s \u001b[38;5;241m=\u001b[39m \u001b[43mgufunc\u001b[49m\u001b[43m(\u001b[49m\u001b[43ma\u001b[49m\u001b[43m,\u001b[49m\u001b[43m \u001b[49m\u001b[43mb\u001b[49m\u001b[43m,\u001b[49m\u001b[43m \u001b[49m\u001b[43mrcond\u001b[49m\u001b[43m,\u001b[49m\u001b[43m \u001b[49m\u001b[43msignature\u001b[49m\u001b[38;5;241;43m=\u001b[39;49m\u001b[43msignature\u001b[49m\u001b[43m)\u001b[49m\n\u001b[1;32m   2509\u001b[0m \u001b[38;5;28;01mif\u001b[39;00m m \u001b[38;5;241m==\u001b[39m \u001b[38;5;241m0\u001b[39m:\n\u001b[1;32m   2510\u001b[0m     x[\u001b[38;5;241m.\u001b[39m\u001b[38;5;241m.\u001b[39m\u001b[38;5;241m.\u001b[39m] \u001b[38;5;241m=\u001b[39m \u001b[38;5;241m0\u001b[39m\n",
      "\u001b[0;31mKeyboardInterrupt\u001b[0m: "
     ]
    }
   ],
   "source": [
    "new_vertices_1 = My_arap(vertices=V,faces = F,indices = indices, new_positions = new_positions,max_iter=20, cotangent_weight_matrix=cotangent_weight_matrix_for_cactus, adj_list=adj_list_cactus)"
   ]
  },
  {
   "cell_type": "code",
   "execution_count": 138,
   "metadata": {},
   "outputs": [
    {
     "data": {
      "application/vnd.jupyter.widget-view+json": {
       "model_id": "dbec1e4685aa4217a18c98f867d28135",
       "version_major": 2,
       "version_minor": 0
      },
      "text/plain": [
       "Renderer(camera=PerspectiveCamera(children=(DirectionalLight(color='white', intensity=0.6, position=(0.5445456…"
      ]
     },
     "metadata": {},
     "output_type": "display_data"
    },
    {
     "data": {
      "text/plain": [
       "<meshplot.Viewer.Viewer at 0x13340f140>"
      ]
     },
     "execution_count": 138,
     "metadata": {},
     "output_type": "execute_result"
    }
   ],
   "source": [
    "plot(new_vertices_1,F)"
   ]
  }
 ],
 "metadata": {
  "kernelspec": {
   "display_name": "Python 3",
   "language": "python",
   "name": "python3"
  },
  "language_info": {
   "codemirror_mode": {
    "name": "ipython",
    "version": 3
   },
   "file_extension": ".py",
   "mimetype": "text/x-python",
   "name": "python",
   "nbconvert_exporter": "python",
   "pygments_lexer": "ipython3",
   "version": "3.12.4"
  }
 },
 "nbformat": 4,
 "nbformat_minor": 2
}
